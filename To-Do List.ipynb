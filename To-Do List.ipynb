{
 "cells": [
  {
   "cell_type": "code",
   "execution_count": 1,
   "id": "e5c2c702",
   "metadata": {},
   "outputs": [],
   "source": [
    "import tkinter as tk\n",
    "\n",
    "class ToDoList:\n",
    "    def __init__(self,root):\n",
    "        self.root =root\n",
    "        self.root.title(\"To-Do List\")\n",
    "    \n",
    "        self.tasks = []\n",
    "    \n",
    "        self.task_entry =tk.Entry(root)\n",
    "        self.task_entry.pack(padx=10,pady=5)\n",
    "    \n",
    "        self.submit_button = tk.Button(root,text =\"submit\",command= self.add_task)\n",
    "        self.submit_button.pack()\n",
    "    \n",
    "        self.task_listbox =tk.Listbox(root,selectmode =tk.SINGLE,height =10,width =40)\n",
    "        self.task_listbox.pack(padx=10,pady=5)\n",
    "        \n",
    "        \n",
    "        \n",
    "    def add_task(self):\n",
    "        task= self.task_entry.get().strip()\n",
    "        if task:\n",
    "            self.tasks.append(task)\n",
    "            self.update_task_list()\n",
    "            \n",
    "            \n",
    "    def update_task_list(self):\n",
    "        self.task_listbox.delete(0,tk.END)\n",
    "        for task in self.tasks:\n",
    "            self.task_listbox.insert(tk.END,task)\n",
    "            \n",
    "if __name__ ==\"__main__\":\n",
    "    root = tk.Tk()\n",
    "    app =ToDoList(root)\n",
    "    root.mainloop()\n",
    "        \n",
    "    \n",
    "    "
   ]
  },
  {
   "cell_type": "code",
   "execution_count": null,
   "id": "7e758e82",
   "metadata": {},
   "outputs": [],
   "source": []
  },
  {
   "cell_type": "code",
   "execution_count": null,
   "id": "89ab281c",
   "metadata": {},
   "outputs": [],
   "source": []
  }
 ],
 "metadata": {
  "kernelspec": {
   "display_name": "Python 3 (ipykernel)",
   "language": "python",
   "name": "python3"
  },
  "language_info": {
   "codemirror_mode": {
    "name": "ipython",
    "version": 3
   },
   "file_extension": ".py",
   "mimetype": "text/x-python",
   "name": "python",
   "nbconvert_exporter": "python",
   "pygments_lexer": "ipython3",
   "version": "3.10.9"
  }
 },
 "nbformat": 4,
 "nbformat_minor": 5
}
